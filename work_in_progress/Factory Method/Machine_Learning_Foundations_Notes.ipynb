{
 "cells": [
  {
   "cell_type": "markdown",
   "id": "30db7944-7ab6-428c-b787-2bfe6b1e15e9",
   "metadata": {},
   "source": [
    "Тако што у падајућем менију промениш са \"code\" на \"markdown\"."
   ]
  },
  {
   "cell_type": "code",
   "execution_count": 3,
   "id": "69c3eb7a-4eda-49f3-adc2-645c8299bbca",
   "metadata": {
    "tags": []
   },
   "outputs": [],
   "source": [
    "import numpy as np\n",
    "e1 = np.array([1, 0, 0])\n",
    "e2 = np.array([0, 1, 0])\n",
    "e3 = np.array([0, 0, 1])"
   ]
  },
  {
   "cell_type": "code",
   "execution_count": 4,
   "id": "e0ce1c6b-90a8-4c46-ac7e-8a0515c11438",
   "metadata": {
    "tags": []
   },
   "outputs": [
    {
     "data": {
      "text/plain": [
       "array([1, 1, 0])"
      ]
     },
     "execution_count": 4,
     "metadata": {},
     "output_type": "execute_result"
    }
   ],
   "source": [
    "e1 + e2"
   ]
  },
  {
   "cell_type": "code",
   "execution_count": 5,
   "id": "92b56b5c-4f81-4eaf-b9ad-beee64dc8af6",
   "metadata": {
    "tags": []
   },
   "outputs": [
    {
     "data": {
      "text/plain": [
       "array([1, 1, 1])"
      ]
     },
     "execution_count": 5,
     "metadata": {},
     "output_type": "execute_result"
    }
   ],
   "source": [
    "e1 + e2 + e3"
   ]
  },
  {
   "cell_type": "code",
   "execution_count": 6,
   "id": "86f93313-b0fd-48d3-b05d-f86137b42eb1",
   "metadata": {
    "tags": []
   },
   "outputs": [
    {
     "data": {
      "text/plain": [
       "array([0, 0, 0])"
      ]
     },
     "execution_count": 6,
     "metadata": {},
     "output_type": "execute_result"
    }
   ],
   "source": [
    "e1 * e2"
   ]
  },
  {
   "cell_type": "code",
   "execution_count": 7,
   "id": "270a556b-a9da-4be7-b3cc-c642f36c69df",
   "metadata": {
    "tags": []
   },
   "outputs": [
    {
     "data": {
      "text/plain": [
       "array([0, 0, 0])"
      ]
     },
     "execution_count": 7,
     "metadata": {},
     "output_type": "execute_result"
    }
   ],
   "source": [
    "e1 * e2 * e3"
   ]
  },
  {
   "cell_type": "markdown",
   "id": "0c451350-5b9f-47be-b040-c70261dbecb0",
   "metadata": {},
   "source": [
    "**Скаларни производ два вектора**"
   ]
  },
  {
   "cell_type": "code",
   "execution_count": 8,
   "id": "f6c22259-be23-4502-8a38-84fb393f707c",
   "metadata": {
    "tags": []
   },
   "outputs": [
    {
     "data": {
      "text/plain": [
       "0"
      ]
     },
     "execution_count": 8,
     "metadata": {},
     "output_type": "execute_result"
    }
   ],
   "source": [
    "np.dot(e1, e2)"
   ]
  },
  {
   "cell_type": "code",
   "execution_count": 9,
   "id": "35c07d16-1710-4c94-99df-25186e1e7e5a",
   "metadata": {
    "tags": []
   },
   "outputs": [
    {
     "data": {
      "text/plain": [
       "0"
      ]
     },
     "execution_count": 9,
     "metadata": {},
     "output_type": "execute_result"
    }
   ],
   "source": [
    "np.dot(e1, e2.transpose())"
   ]
  },
  {
   "cell_type": "markdown",
   "id": "fd727378-5250-4abc-86c5-fec6dc11bd3e",
   "metadata": {},
   "source": [
    "**Интензитет вектора**"
   ]
  },
  {
   "cell_type": "code",
   "execution_count": 10,
   "id": "736a2144-07a1-4f23-a743-0a06f55dda22",
   "metadata": {
    "tags": []
   },
   "outputs": [],
   "source": [
    "from numpy import linalg as lng"
   ]
  },
  {
   "cell_type": "code",
   "execution_count": 11,
   "id": "e3f5ffed-f574-426e-9df8-49d4a2473e17",
   "metadata": {
    "tags": []
   },
   "outputs": [
    {
     "data": {
      "text/plain": [
       "1.0"
      ]
     },
     "execution_count": 11,
     "metadata": {},
     "output_type": "execute_result"
    }
   ],
   "source": [
    "lng.norm(e1)"
   ]
  },
  {
   "cell_type": "markdown",
   "id": "68a22a5a-395f-4d3b-afbd-a4effd20f8e7",
   "metadata": {},
   "source": [
    "**Пројекција вектора**"
   ]
  },
  {
   "cell_type": "code",
   "execution_count": 17,
   "id": "5cb67f03-86c7-4fa8-abad-3d1535d00f18",
   "metadata": {
    "tags": []
   },
   "outputs": [
    {
     "data": {
      "text/plain": [
       "5.656854249492381"
      ]
     },
     "execution_count": 17,
     "metadata": {},
     "output_type": "execute_result"
    }
   ],
   "source": [
    "a = np.array([4, 4, 0])\n",
    "lng.norm(a)"
   ]
  },
  {
   "cell_type": "code",
   "execution_count": 18,
   "id": "079df184-ca01-4e1a-a4ba-7e89df789478",
   "metadata": {
    "tags": []
   },
   "outputs": [
    {
     "data": {
      "text/plain": [
       "array([4., 0., 0.])"
      ]
     },
     "execution_count": 18,
     "metadata": {},
     "output_type": "execute_result"
    }
   ],
   "source": [
    "(np.dot(a, e1)/np.dot(e1, e1))*e1"
   ]
  },
  {
   "cell_type": "markdown",
   "id": "9392ec21-3517-4e81-9182-0962d220a2a5",
   "metadata": {},
   "source": [
    "**Инверзна матрица**"
   ]
  },
  {
   "cell_type": "code",
   "execution_count": 12,
   "id": "b61f8c66-517e-4961-b564-4e73708354d1",
   "metadata": {
    "tags": []
   },
   "outputs": [
    {
     "data": {
      "text/plain": [
       "array([[-2. ,  1. ],\n",
       "       [ 1.5, -0.5]])"
      ]
     },
     "execution_count": 12,
     "metadata": {},
     "output_type": "execute_result"
    }
   ],
   "source": [
    "A = np.array([[1, 2], [3, 4]])\n",
    "lng.inv(A)"
   ]
  },
  {
   "cell_type": "markdown",
   "id": "6836b26e-fc2e-4d3b-a583-95acd143d2f5",
   "metadata": {},
   "source": [
    "**Детерминанта матрице**"
   ]
  },
  {
   "cell_type": "code",
   "execution_count": 19,
   "id": "a8a4a740-79ed-4b66-b79a-ae161c450411",
   "metadata": {
    "tags": []
   },
   "outputs": [
    {
     "data": {
      "text/plain": [
       "-2.0000000000000004"
      ]
     },
     "execution_count": 19,
     "metadata": {},
     "output_type": "execute_result"
    }
   ],
   "source": [
    "lng.det(A)"
   ]
  },
  {
   "cell_type": "code",
   "execution_count": 20,
   "id": "9e2291d0-41ed-462d-b2e0-3a3e09a14bbf",
   "metadata": {
    "tags": []
   },
   "outputs": [
    {
     "data": {
      "text/plain": [
       "0.0"
      ]
     },
     "execution_count": 20,
     "metadata": {},
     "output_type": "execute_result"
    }
   ],
   "source": [
    "B = np.array([[3, 1], [6, 2]])\n",
    "lng.det(B)"
   ]
  },
  {
   "cell_type": "code",
   "execution_count": 21,
   "id": "b076581a-d436-4648-86c6-9b6c28585ad7",
   "metadata": {
    "tags": []
   },
   "outputs": [
    {
     "data": {
      "text/plain": [
       "array([[ 2, -2],\n",
       "       [-2, 20]])"
      ]
     },
     "execution_count": 21,
     "metadata": {},
     "output_type": "execute_result"
    }
   ],
   "source": [
    "C = np.array([[1, 2], [-1, 4]])\n",
    "D = np.array([[1, -1], [2, 4]])\n",
    "np.dot(D, C)"
   ]
  },
  {
   "cell_type": "code",
   "execution_count": 22,
   "id": "da2cac0f-2524-4abc-983c-585c6eba61ef",
   "metadata": {
    "tags": []
   },
   "outputs": [
    {
     "data": {
      "text/plain": [
       "array([[-2,  0],\n",
       "       [-3, -5]])"
      ]
     },
     "execution_count": 22,
     "metadata": {},
     "output_type": "execute_result"
    }
   ],
   "source": [
    "np.invert(D)"
   ]
  },
  {
   "cell_type": "code",
   "execution_count": 23,
   "id": "5137a2b0-077f-4b2b-998d-fc126bae92bf",
   "metadata": {
    "tags": []
   },
   "outputs": [],
   "source": [
    "C = D"
   ]
  },
  {
   "cell_type": "code",
   "execution_count": 24,
   "id": "2d1e46eb-2907-4b54-95dd-408a08246b98",
   "metadata": {
    "tags": []
   },
   "outputs": [],
   "source": [
    "D = np.invert(D)"
   ]
  },
  {
   "cell_type": "code",
   "execution_count": 25,
   "id": "37ac6d25-6519-4de9-8677-d341161be1db",
   "metadata": {
    "tags": []
   },
   "outputs": [
    {
     "data": {
      "text/plain": [
       "array([[  1,   5],\n",
       "       [-16, -20]])"
      ]
     },
     "execution_count": 25,
     "metadata": {},
     "output_type": "execute_result"
    }
   ],
   "source": [
    "np.dot(C, D)"
   ]
  }
 ],
 "metadata": {
  "kernelspec": {
   "display_name": "Python 3 (ipykernel)",
   "language": "python",
   "name": "python3"
  },
  "language_info": {
   "codemirror_mode": {
    "name": "ipython",
    "version": 3
   },
   "file_extension": ".py",
   "mimetype": "text/x-python",
   "name": "python",
   "nbconvert_exporter": "python",
   "pygments_lexer": "ipython3",
   "version": "3.8.16"
  }
 },
 "nbformat": 4,
 "nbformat_minor": 5
}
